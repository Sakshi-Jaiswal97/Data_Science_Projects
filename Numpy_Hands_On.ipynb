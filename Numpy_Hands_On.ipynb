{
  "nbformat": 4,
  "nbformat_minor": 0,
  "metadata": {
    "colab": {
      "provenance": []
    },
    "kernelspec": {
      "name": "python3",
      "display_name": "Python 3"
    },
    "language_info": {
      "name": "python"
    }
  },
  "cells": [
    {
      "cell_type": "markdown",
      "source": [
        "#**Numpy_Hands_On**\n",
        "\n",
        "*   **Array** is the **homogenous collection of data**.Data can be different types.\n",
        "*   1D array is called **Series**.\n",
        "*   2D,3D,4D so on can be called as **Matrix (DataFrame)**.\n",
        "\n"
      ],
      "metadata": {
        "id": "bKlOHW5BiaEn"
      }
    },
    {
      "cell_type": "code",
      "execution_count": null,
      "metadata": {
        "id": "PeDuvQ9fgnmC"
      },
      "outputs": [],
      "source": [
        "import numpy as np"
      ]
    },
    {
      "cell_type": "markdown",
      "source": [
        "**Q1.Create the 1D numpy array with numpy array module and with a datatype integer and float.**"
      ],
      "metadata": {
        "id": "v0RKOQuRjN1O"
      }
    },
    {
      "cell_type": "code",
      "source": [
        "arr1 = np.arange(10, dtype = 'int')\n",
        "arr2 = np.arange(10, dtype = 'float')"
      ],
      "metadata": {
        "id": "ccuMMDixif6m"
      },
      "execution_count": null,
      "outputs": []
    },
    {
      "cell_type": "code",
      "source": [
        "arr1"
      ],
      "metadata": {
        "colab": {
          "base_uri": "https://localhost:8080/"
        },
        "id": "Fy5Bf6jtjv5X",
        "outputId": "9a226876-ae0c-4ed6-d29d-26567967431a"
      },
      "execution_count": null,
      "outputs": [
        {
          "output_type": "execute_result",
          "data": {
            "text/plain": [
              "array([0, 1, 2, 3, 4, 5, 6, 7, 8, 9])"
            ]
          },
          "metadata": {},
          "execution_count": 3
        }
      ]
    },
    {
      "cell_type": "code",
      "source": [
        "arr2"
      ],
      "metadata": {
        "colab": {
          "base_uri": "https://localhost:8080/"
        },
        "id": "LQOBJfZPkB1V",
        "outputId": "80243d75-9eca-4ed7-a6f6-7ef9e799fdf0"
      },
      "execution_count": null,
      "outputs": [
        {
          "output_type": "execute_result",
          "data": {
            "text/plain": [
              "array([0., 1., 2., 3., 4., 5., 6., 7., 8., 9.])"
            ]
          },
          "metadata": {},
          "execution_count": 4
        }
      ]
    },
    {
      "cell_type": "markdown",
      "source": [
        "**Q2.Create the numpy array that have zero,one, two, three dimension respectively.Alsoprint the shape and dimensions of the numpy arrays created above.**"
      ],
      "metadata": {
        "id": "LiUMGfCSl8gL"
      }
    },
    {
      "cell_type": "code",
      "source": [
        "arr0 = np.array(1)  #0 dimension -->only single element present.\n",
        "arr1 = np.arange(10) #1D array\n",
        "arr2 = np.arange(9).reshape(3,3)  #2D array\n",
        "arr3 = np.array([[[1,2,3,4,5]]])  #3D array --> no. of square bracket will define the dimension. Here 3 sq bracket means 3D array."
      ],
      "metadata": {
        "id": "iD-3jUwIlJqO"
      },
      "execution_count": null,
      "outputs": []
    },
    {
      "cell_type": "code",
      "source": [
        "arr0"
      ],
      "metadata": {
        "colab": {
          "base_uri": "https://localhost:8080/"
        },
        "id": "StAaz2e8oYyB",
        "outputId": "3b7621e4-7f44-42cb-a287-6db310174e3c"
      },
      "execution_count": null,
      "outputs": [
        {
          "output_type": "execute_result",
          "data": {
            "text/plain": [
              "array(1)"
            ]
          },
          "metadata": {},
          "execution_count": 6
        }
      ]
    },
    {
      "cell_type": "code",
      "source": [
        "arr1  #1D array"
      ],
      "metadata": {
        "colab": {
          "base_uri": "https://localhost:8080/"
        },
        "id": "Tm_0wFCpm7SP",
        "outputId": "1be363eb-cb34-4658-87af-1be8523047d5"
      },
      "execution_count": null,
      "outputs": [
        {
          "output_type": "execute_result",
          "data": {
            "text/plain": [
              "array([0, 1, 2, 3, 4, 5, 6, 7, 8, 9])"
            ]
          },
          "metadata": {},
          "execution_count": 7
        }
      ]
    },
    {
      "cell_type": "code",
      "source": [
        "arr1.shape"
      ],
      "metadata": {
        "colab": {
          "base_uri": "https://localhost:8080/"
        },
        "id": "xaYNh6RKm7dE",
        "outputId": "16cb15ad-10ed-45bf-f6d3-68627d58d5b0"
      },
      "execution_count": null,
      "outputs": [
        {
          "output_type": "execute_result",
          "data": {
            "text/plain": [
              "(10,)"
            ]
          },
          "metadata": {},
          "execution_count": 8
        }
      ]
    },
    {
      "cell_type": "code",
      "source": [
        "arr1.ndim"
      ],
      "metadata": {
        "colab": {
          "base_uri": "https://localhost:8080/"
        },
        "id": "HtEN5SN_m7ni",
        "outputId": "852b1af9-975c-4d46-e474-ee7ca60d0d68"
      },
      "execution_count": null,
      "outputs": [
        {
          "output_type": "execute_result",
          "data": {
            "text/plain": [
              "1"
            ]
          },
          "metadata": {},
          "execution_count": 9
        }
      ]
    },
    {
      "cell_type": "code",
      "source": [
        "arr2"
      ],
      "metadata": {
        "colab": {
          "base_uri": "https://localhost:8080/"
        },
        "id": "vLKjxz55m7ww",
        "outputId": "e2d340af-8f95-4dba-8545-e0e5809686dd"
      },
      "execution_count": null,
      "outputs": [
        {
          "output_type": "execute_result",
          "data": {
            "text/plain": [
              "array([[0, 1, 2],\n",
              "       [3, 4, 5],\n",
              "       [6, 7, 8]])"
            ]
          },
          "metadata": {},
          "execution_count": 10
        }
      ]
    },
    {
      "cell_type": "code",
      "source": [
        "arr2.shape"
      ],
      "metadata": {
        "colab": {
          "base_uri": "https://localhost:8080/"
        },
        "id": "ep7EsL_lm8eN",
        "outputId": "b853e055-fc22-4005-c591-258b50fcc1eb"
      },
      "execution_count": null,
      "outputs": [
        {
          "output_type": "execute_result",
          "data": {
            "text/plain": [
              "(3, 3)"
            ]
          },
          "metadata": {},
          "execution_count": 11
        }
      ]
    },
    {
      "cell_type": "code",
      "source": [
        "arr2.ndim"
      ],
      "metadata": {
        "colab": {
          "base_uri": "https://localhost:8080/"
        },
        "id": "k4EPx1Ddm8yA",
        "outputId": "cf96a283-01ec-4e5d-8659-92c0eea38d67"
      },
      "execution_count": null,
      "outputs": [
        {
          "output_type": "execute_result",
          "data": {
            "text/plain": [
              "2"
            ]
          },
          "metadata": {},
          "execution_count": 12
        }
      ]
    },
    {
      "cell_type": "code",
      "source": [
        "arr3"
      ],
      "metadata": {
        "colab": {
          "base_uri": "https://localhost:8080/"
        },
        "id": "YrcfhCURoGNT",
        "outputId": "53677c08-8ee1-4625-d9e3-a7fa0c354840"
      },
      "execution_count": null,
      "outputs": [
        {
          "output_type": "execute_result",
          "data": {
            "text/plain": [
              "array([[[1, 2, 3, 4, 5]]])"
            ]
          },
          "metadata": {},
          "execution_count": 13
        }
      ]
    },
    {
      "cell_type": "code",
      "source": [
        "arr3.ndim"
      ],
      "metadata": {
        "colab": {
          "base_uri": "https://localhost:8080/"
        },
        "id": "Uclrh7TtoHgI",
        "outputId": "c38c3048-648e-4b85-97fc-833146c7cd02"
      },
      "execution_count": null,
      "outputs": [
        {
          "output_type": "execute_result",
          "data": {
            "text/plain": [
              "3"
            ]
          },
          "metadata": {},
          "execution_count": 14
        }
      ]
    },
    {
      "cell_type": "code",
      "source": [
        "#0dimension\n",
        "print('array 0d:', arr0)\n",
        "print('shape 0d:' ,arr0.shape)\n",
        "print('dimension 0d:' ,arr0.ndim)\n",
        "\n",
        "#1D\n",
        "print('array 1d:', arr1)\n",
        "print('shape 1d:' ,arr1.shape)\n",
        "print('dimension 1d:' ,arr1.ndim)\n",
        "\n",
        "#2D\n",
        "print('array 2d:', arr2)\n",
        "print('shape 2d:' ,arr2.shape)\n",
        "print('dimension 2d:' ,arr2.ndim)\n",
        "\n",
        "#3D\n",
        "print('array 3d:', arr3)\n",
        "print('shape 3d:' ,arr3.shape)  #(no. of blocks, row in each block,column in each block) (1,1,5)\n",
        "print('dimension 3d:' ,arr3.ndim)\n"
      ],
      "metadata": {
        "colab": {
          "base_uri": "https://localhost:8080/"
        },
        "id": "OZGkvWSZoMaN",
        "outputId": "5c95678c-d1d6-4591-fe2e-40625a8290ae"
      },
      "execution_count": null,
      "outputs": [
        {
          "output_type": "stream",
          "name": "stdout",
          "text": [
            "array 0d: 1\n",
            "shape 0d: ()\n",
            "dimension 0d: 0\n",
            "array 1d: [0 1 2 3 4 5 6 7 8 9]\n",
            "shape 1d: (10,)\n",
            "dimension 1d: 1\n",
            "array 2d: [[0 1 2]\n",
            " [3 4 5]\n",
            " [6 7 8]]\n",
            "shape 2d: (3, 3)\n",
            "dimension 2d: 2\n",
            "array 3d: [[[1 2 3 4 5]]]\n",
            "shape 3d: (1, 1, 5)\n",
            "dimension 3d: 3\n"
          ]
        }
      ]
    },
    {
      "cell_type": "markdown",
      "source": [
        "**Q3.Create a 2x2, 3x3, 4x4 (rows,columns) identity matrix using Numpy.**"
      ],
      "metadata": {
        "id": "6v-c9TMHrs_q"
      }
    },
    {
      "cell_type": "code",
      "source": [
        "#np.eye\n",
        "# np.identity (both does same work)\n",
        " #diagonal elements will be 1 and other elements will be 0.\n",
        "\n",
        "arr1 = np.identity(2)  #2x2\n",
        "arr2 = np.identity(3)  #3x3\n",
        "arr3 = np.identity(4)  #4x4\n",
        "\n",
        "print(arr1)\n",
        "print(arr2)\n",
        "print(arr3)\n",
        "\n",
        "#2nd way: to make an identity matrix with rows != columns: use np.eye\n",
        "#[1,0,0]\n",
        "#[0,1,0]\n",
        "\n",
        "eye2 = np.eye(2)\n",
        "print(eye2)\n",
        "\n",
        "eye23 = np.eye(2,3)\n",
        "print(eye23)\n",
        "\n",
        "#np.identity(2,3) --> it will through an error.\n"
      ],
      "metadata": {
        "colab": {
          "base_uri": "https://localhost:8080/"
        },
        "id": "DltNYLR2qjPf",
        "outputId": "5b23b56f-9fcc-42fc-a2c7-6274e8126750"
      },
      "execution_count": null,
      "outputs": [
        {
          "output_type": "stream",
          "name": "stdout",
          "text": [
            "[[1. 0.]\n",
            " [0. 1.]]\n",
            "[[1. 0. 0.]\n",
            " [0. 1. 0.]\n",
            " [0. 0. 1.]]\n",
            "[[1. 0. 0. 0.]\n",
            " [0. 1. 0. 0.]\n",
            " [0. 0. 1. 0.]\n",
            " [0. 0. 0. 1.]]\n",
            "[[1. 0.]\n",
            " [0. 1.]]\n",
            "[[1. 0. 0.]\n",
            " [0. 1. 0.]]\n"
          ]
        }
      ]
    },
    {
      "cell_type": "markdown",
      "source": [
        "**Q4.Create a numpy array with shape 2x5 that has all the elements as zero.**"
      ],
      "metadata": {
        "id": "_caUi4TBtco0"
      }
    },
    {
      "cell_type": "code",
      "source": [
        "#1st way\n",
        "zeros = np.zeros((2,5), dtype = 'int') #zeros() has default value is float.\n",
        "print(zeros)\n",
        "\n",
        "#2nd way\n",
        "arr0 = np.full((2,5),0)  #full() has default value is int rather than float.\n",
        "print(arr0)\n",
        "\n",
        "#3rd way\n",
        "arr1 = np.ones((2,5))   #ones() has default valuebis float.\n",
        "print(arr1*0)"
      ],
      "metadata": {
        "colab": {
          "base_uri": "https://localhost:8080/"
        },
        "id": "pVmBZ_RjvLUx",
        "outputId": "3c4f7085-4bbe-4c17-9d70-aeae56eedffc"
      },
      "execution_count": null,
      "outputs": [
        {
          "output_type": "stream",
          "name": "stdout",
          "text": [
            "[[0 0 0 0 0]\n",
            " [0 0 0 0 0]]\n",
            "[[0 0 0 0 0]\n",
            " [0 0 0 0 0]]\n",
            "[[0. 0. 0. 0. 0.]\n",
            " [0. 0. 0. 0. 0.]]\n"
          ]
        }
      ]
    },
    {
      "cell_type": "markdown",
      "source": [
        "**Q5.Create a numpy array that has the shape 3x5 and all the elements are 5.**"
      ],
      "metadata": {
        "id": "oN8Z7Mk-vVJH"
      }
    },
    {
      "cell_type": "code",
      "source": [
        "#1st way\n",
        "arr5 = np.full((3,5),5)\n",
        "print(arr5)\n",
        "\n",
        "#2nd way\n",
        "\n",
        "arr = np.ones((3,5), dtype = 'int')\n",
        "print(arr*5)"
      ],
      "metadata": {
        "colab": {
          "base_uri": "https://localhost:8080/"
        },
        "id": "Jk9qOkVVvLYx",
        "outputId": "ca462975-0f44-4bae-e810-90bc6c1edee2"
      },
      "execution_count": null,
      "outputs": [
        {
          "output_type": "stream",
          "name": "stdout",
          "text": [
            "[[5 5 5 5 5]\n",
            " [5 5 5 5 5]\n",
            " [5 5 5 5 5]]\n",
            "[[5 5 5 5 5]\n",
            " [5 5 5 5 5]\n",
            " [5 5 5 5 5]]\n"
          ]
        }
      ]
    },
    {
      "cell_type": "markdown",
      "source": [
        "**Q6.Create a numpy array with random integers in range 0-100 and sample size should be 25.**"
      ],
      "metadata": {
        "id": "ebJLAajsxiKJ"
      }
    },
    {
      "cell_type": "code",
      "source": [
        "arr = np.random.randint(0,100,25)  #low = 0, high = 100, total element = 25\n",
        "arr"
      ],
      "metadata": {
        "colab": {
          "base_uri": "https://localhost:8080/"
        },
        "id": "ZPZyyyD6vLc4",
        "outputId": "f287f1d2-b11a-4b9b-877c-12ef1c91a60f"
      },
      "execution_count": null,
      "outputs": [
        {
          "output_type": "execute_result",
          "data": {
            "text/plain": [
              "array([33, 89, 34, 92, 65, 73, 47, 92, 88, 99, 77, 56, 68, 31, 88, 77,  2,\n",
              "       25, 12, 27, 39,  6, 36, 30, 82])"
            ]
          },
          "metadata": {},
          "execution_count": 19
        }
      ]
    },
    {
      "cell_type": "code",
      "source": [
        "random_float = np.random.random(5) # low = 0, high = 1: to fetch 5 float values\n",
        "random_float"
      ],
      "metadata": {
        "colab": {
          "base_uri": "https://localhost:8080/"
        },
        "id": "9lIuvPwfzmFU",
        "outputId": "d055641c-3673-4273-b3d8-9161a030bfb0"
      },
      "execution_count": null,
      "outputs": [
        {
          "output_type": "execute_result",
          "data": {
            "text/plain": [
              "array([0.78910794, 0.01351072, 0.92887199, 0.65786818, 0.84766518])"
            ]
          },
          "metadata": {},
          "execution_count": 20
        }
      ]
    },
    {
      "cell_type": "code",
      "source": [
        "arr = np.random.randn(3) # low = -1, high = 1: to fetch 3 values\n",
        "arr"
      ],
      "metadata": {
        "colab": {
          "base_uri": "https://localhost:8080/"
        },
        "id": "F6cF-HQuzmLk",
        "outputId": "3d60ab93-9c10-4f1f-fdec-dc423ef0d0f8"
      },
      "execution_count": null,
      "outputs": [
        {
          "output_type": "execute_result",
          "data": {
            "text/plain": [
              "array([ 1.63093438,  0.56938649, -1.1157741 ])"
            ]
          },
          "metadata": {},
          "execution_count": 21
        }
      ]
    },
    {
      "cell_type": "code",
      "source": [
        "linspace_arr = np.linspace(1,25,7) #equi_distance values from each other.\n",
        "linspace_arr"
      ],
      "metadata": {
        "colab": {
          "base_uri": "https://localhost:8080/"
        },
        "id": "RHCnAbSj0l2Y",
        "outputId": "f8cc6966-a121-4763-fb40-44bc089441fa"
      },
      "execution_count": null,
      "outputs": [
        {
          "output_type": "execute_result",
          "data": {
            "text/plain": [
              "array([ 1.,  5.,  9., 13., 17., 21., 25.])"
            ]
          },
          "metadata": {},
          "execution_count": 22
        }
      ]
    },
    {
      "cell_type": "code",
      "source": [
        "# In arange() last element will not considered.\n",
        "\n",
        "array = np.arange(0,20,2) #start, end, skip value.\n",
        "array"
      ],
      "metadata": {
        "colab": {
          "base_uri": "https://localhost:8080/"
        },
        "id": "wub3TG8_1jLh",
        "outputId": "1f1f7ddc-99d0-4b68-9b19-f69cbd5c59a7"
      },
      "execution_count": null,
      "outputs": [
        {
          "output_type": "execute_result",
          "data": {
            "text/plain": [
              "array([ 0,  2,  4,  6,  8, 10, 12, 14, 16, 18])"
            ]
          },
          "metadata": {},
          "execution_count": 23
        }
      ]
    },
    {
      "cell_type": "markdown",
      "source": [
        "**Q7.Create a numpy array with a shape 3x3 that has all the elements as 1.**"
      ],
      "metadata": {
        "id": "6o0zUZAkyYKg"
      }
    },
    {
      "cell_type": "code",
      "source": [
        "array_1 = np.ones((3,3))\n",
        "array_1"
      ],
      "metadata": {
        "colab": {
          "base_uri": "https://localhost:8080/"
        },
        "id": "V7aFxVFUvLge",
        "outputId": "a0e63697-747a-40fa-a8c8-cfa394e531fd"
      },
      "execution_count": null,
      "outputs": [
        {
          "output_type": "execute_result",
          "data": {
            "text/plain": [
              "array([[1., 1., 1.],\n",
              "       [1., 1., 1.],\n",
              "       [1., 1., 1.]])"
            ]
          },
          "metadata": {},
          "execution_count": 24
        }
      ]
    },
    {
      "cell_type": "markdown",
      "source": [
        "**Q8.Create a numpy array in the shape 2x3 with random integers in the range 0-100. Reshape the array in the shape 3x2 and print the updated shape of the resultant array.**"
      ],
      "metadata": {
        "id": "Sw-MdQY33SoQ"
      }
    },
    {
      "cell_type": "code",
      "source": [
        "random_arr = np.random.randint(0,100, size = (2,3))\n",
        "print(random_arr)\n",
        "print(random_arr.shape)\n",
        "\n",
        "random_arr = random_arr.reshape((3,2))\n",
        "print(random_arr)\n",
        "print(random_arr.shape)"
      ],
      "metadata": {
        "colab": {
          "base_uri": "https://localhost:8080/"
        },
        "id": "khRsCTI8vL3Z",
        "outputId": "327ab953-1092-4ca1-8899-afd1d38e3c23"
      },
      "execution_count": null,
      "outputs": [
        {
          "output_type": "stream",
          "name": "stdout",
          "text": [
            "[[95 82 51]\n",
            " [96 21 65]]\n",
            "(2, 3)\n",
            "[[95 82]\n",
            " [51 96]\n",
            " [21 65]]\n",
            "(3, 2)\n"
          ]
        }
      ]
    },
    {
      "cell_type": "markdown",
      "source": [
        "**Q9.Create a random array with the range 0-1000 with a size = 50.Step 2: Perform the following operations on the same.**\n",
        "\n",
        "**a.Print the first 10 elements in the array**\n",
        "\n",
        "**b.Print the last 10 elements of the array**\n",
        "\n",
        "**c.Print the elements from the indexes 10-25**\n",
        "\n",
        "**d.Print the element at the index 22**\n",
        "\n",
        "**e.Print the array using negative indexing**\n",
        "\n",
        "**f.Print the last 10 elements of the array, using negative indexing**"
      ],
      "metadata": {
        "id": "p5mt8Pj152vc"
      }
    },
    {
      "cell_type": "code",
      "source": [
        "random_arr = np.random.randint(0,1000,2)\n",
        "print(random_arr)\n",
        "arr = np.random.choice(arr,50)  #choice()--> working as random.randint()\n",
        "print(arr)"
      ],
      "metadata": {
        "colab": {
          "base_uri": "https://localhost:8080/"
        },
        "id": "xc8gxhMNvL9A",
        "outputId": "3c648044-d233-43f6-a301-9234898f0bdf"
      },
      "execution_count": null,
      "outputs": [
        {
          "output_type": "stream",
          "name": "stdout",
          "text": [
            "[829 326]\n",
            "[ 1.63093438  0.56938649 -1.1157741   1.63093438 -1.1157741   0.56938649\n",
            "  0.56938649  0.56938649  0.56938649  0.56938649 -1.1157741   1.63093438\n",
            " -1.1157741  -1.1157741   0.56938649  0.56938649 -1.1157741   1.63093438\n",
            "  0.56938649 -1.1157741  -1.1157741   0.56938649  0.56938649  1.63093438\n",
            " -1.1157741   0.56938649 -1.1157741  -1.1157741  -1.1157741   1.63093438\n",
            "  1.63093438  1.63093438 -1.1157741  -1.1157741   1.63093438 -1.1157741\n",
            "  1.63093438  0.56938649 -1.1157741   0.56938649  1.63093438  0.56938649\n",
            "  1.63093438  1.63093438  0.56938649 -1.1157741   1.63093438  1.63093438\n",
            "  0.56938649  1.63093438]\n"
          ]
        }
      ]
    },
    {
      "cell_type": "code",
      "source": [
        "#(a)\n",
        "\n",
        "arr[0:10]"
      ],
      "metadata": {
        "colab": {
          "base_uri": "https://localhost:8080/"
        },
        "id": "P5SeSOkV7NIS",
        "outputId": "6d7c9f6c-4d0f-4235-9410-4bbf037c8a0b"
      },
      "execution_count": null,
      "outputs": [
        {
          "output_type": "execute_result",
          "data": {
            "text/plain": [
              "array([ 1.63093438,  0.56938649, -1.1157741 ,  1.63093438, -1.1157741 ,\n",
              "        0.56938649,  0.56938649,  0.56938649,  0.56938649,  0.56938649])"
            ]
          },
          "metadata": {},
          "execution_count": 27
        }
      ]
    },
    {
      "cell_type": "code",
      "source": [
        "#(b)\n",
        "\n",
        "arr[-10:]"
      ],
      "metadata": {
        "colab": {
          "base_uri": "https://localhost:8080/"
        },
        "id": "fJn8Y7Iv7NWl",
        "outputId": "d0f6c6f8-2b4c-46a5-a2e8-f6a4fdaf021b"
      },
      "execution_count": null,
      "outputs": [
        {
          "output_type": "execute_result",
          "data": {
            "text/plain": [
              "array([ 1.63093438,  0.56938649,  1.63093438,  1.63093438,  0.56938649,\n",
              "       -1.1157741 ,  1.63093438,  1.63093438,  0.56938649,  1.63093438])"
            ]
          },
          "metadata": {},
          "execution_count": 28
        }
      ]
    },
    {
      "cell_type": "code",
      "source": [
        "#(c)\n",
        "\n",
        "arr[10:25]"
      ],
      "metadata": {
        "colab": {
          "base_uri": "https://localhost:8080/"
        },
        "id": "57ci0VwW7NoU",
        "outputId": "af2329b0-15c9-4073-d11c-32af8afde23b"
      },
      "execution_count": null,
      "outputs": [
        {
          "output_type": "execute_result",
          "data": {
            "text/plain": [
              "array([-1.1157741 ,  1.63093438, -1.1157741 , -1.1157741 ,  0.56938649,\n",
              "        0.56938649, -1.1157741 ,  1.63093438,  0.56938649, -1.1157741 ,\n",
              "       -1.1157741 ,  0.56938649,  0.56938649,  1.63093438, -1.1157741 ])"
            ]
          },
          "metadata": {},
          "execution_count": 29
        }
      ]
    },
    {
      "cell_type": "code",
      "source": [
        "#(d)\n",
        "arr[22]"
      ],
      "metadata": {
        "colab": {
          "base_uri": "https://localhost:8080/"
        },
        "id": "mf7rlrx37OKs",
        "outputId": "45d5498b-50a7-414f-bb12-a8a1a452b949"
      },
      "execution_count": null,
      "outputs": [
        {
          "output_type": "execute_result",
          "data": {
            "text/plain": [
              "0.5693864879487002"
            ]
          },
          "metadata": {},
          "execution_count": 30
        }
      ]
    },
    {
      "cell_type": "code",
      "source": [
        "#(e)\n",
        "arr[-1]"
      ],
      "metadata": {
        "colab": {
          "base_uri": "https://localhost:8080/"
        },
        "id": "AGOqCP1XvMNP",
        "outputId": "0c3d14e6-b2f4-4dde-aa86-08789737feb4"
      },
      "execution_count": null,
      "outputs": [
        {
          "output_type": "execute_result",
          "data": {
            "text/plain": [
              "1.6309343752582521"
            ]
          },
          "metadata": {},
          "execution_count": 31
        }
      ]
    },
    {
      "cell_type": "code",
      "source": [
        "#(f)\n",
        "\n",
        "arr[-10:]"
      ],
      "metadata": {
        "colab": {
          "base_uri": "https://localhost:8080/"
        },
        "id": "bjnrGn6NvMcP",
        "outputId": "e0d4b89f-32dc-4d51-c081-8ebfaa6ba46e"
      },
      "execution_count": null,
      "outputs": [
        {
          "output_type": "execute_result",
          "data": {
            "text/plain": [
              "array([ 1.63093438,  0.56938649,  1.63093438,  1.63093438,  0.56938649,\n",
              "       -1.1157741 ,  1.63093438,  1.63093438,  0.56938649,  1.63093438])"
            ]
          },
          "metadata": {},
          "execution_count": 32
        }
      ]
    },
    {
      "cell_type": "code",
      "source": [
        "#reverse the array\n",
        "\n",
        "arr[::-1]"
      ],
      "metadata": {
        "colab": {
          "base_uri": "https://localhost:8080/"
        },
        "id": "EG_v1tWE-8Z-",
        "outputId": "793bb692-8834-4b95-ac93-8752e11c3677"
      },
      "execution_count": null,
      "outputs": [
        {
          "output_type": "execute_result",
          "data": {
            "text/plain": [
              "array([ 1.63093438,  0.56938649,  1.63093438,  1.63093438, -1.1157741 ,\n",
              "        0.56938649,  1.63093438,  1.63093438,  0.56938649,  1.63093438,\n",
              "        0.56938649, -1.1157741 ,  0.56938649,  1.63093438, -1.1157741 ,\n",
              "        1.63093438, -1.1157741 , -1.1157741 ,  1.63093438,  1.63093438,\n",
              "        1.63093438, -1.1157741 , -1.1157741 , -1.1157741 ,  0.56938649,\n",
              "       -1.1157741 ,  1.63093438,  0.56938649,  0.56938649, -1.1157741 ,\n",
              "       -1.1157741 ,  0.56938649,  1.63093438, -1.1157741 ,  0.56938649,\n",
              "        0.56938649, -1.1157741 , -1.1157741 ,  1.63093438, -1.1157741 ,\n",
              "        0.56938649,  0.56938649,  0.56938649,  0.56938649,  0.56938649,\n",
              "       -1.1157741 ,  1.63093438, -1.1157741 ,  0.56938649,  1.63093438])"
            ]
          },
          "metadata": {},
          "execution_count": 33
        }
      ]
    },
    {
      "cell_type": "markdown",
      "source": [
        "**Q10.Give the numpy array that has values = [1,2,3,4,5]**\n",
        "\n",
        "**Perform the following operations**\n",
        "\n",
        "**(a).Insert the element 6 at the end of the array.**\n",
        "\n",
        "**(b). Insert the element 10 at the beginning of the array**\n",
        "\n",
        "**(c).Insert the element 30, before 4.**\n",
        "\n",
        "**(d).Update the element 5 as 50**\n",
        "\n",
        "**(e).Delete the element 50 in the updated array**\n",
        "\n",
        "**(f).Create a function to search for the element 30.**\n",
        "\n",
        "**(g).Sort the array in ascending order.**"
      ],
      "metadata": {
        "id": "paJKTV9A8Wq9"
      }
    },
    {
      "cell_type": "code",
      "source": [
        "arr = np.array([1,2,3,4,5])\n",
        "arr"
      ],
      "metadata": {
        "colab": {
          "base_uri": "https://localhost:8080/"
        },
        "id": "wh49i_Vk3ttU",
        "outputId": "e36a1eee-dca6-40c7-e574-76a688002d1c"
      },
      "execution_count": 42,
      "outputs": [
        {
          "output_type": "execute_result",
          "data": {
            "text/plain": [
              "array([1, 2, 3, 4, 5])"
            ]
          },
          "metadata": {},
          "execution_count": 42
        }
      ]
    },
    {
      "cell_type": "code",
      "source": [
        "#(a)\n",
        "\n",
        "#arr = list(arr)\n",
        "#arr\n",
        "\n",
        "arr = np.append(arr,6)\n",
        "print(arr)\n"
      ],
      "metadata": {
        "colab": {
          "base_uri": "https://localhost:8080/"
        },
        "id": "t8lMrH9c3t4F",
        "outputId": "9bca3108-5e01-4031-fee4-e9b8e735677c"
      },
      "execution_count": 43,
      "outputs": [
        {
          "output_type": "stream",
          "name": "stdout",
          "text": [
            "[1 2 3 4 5 6]\n"
          ]
        }
      ]
    },
    {
      "cell_type": "code",
      "source": [
        "#(b)\n",
        "\n",
        "#arr.insert(0,10) #insert(index position,value)\n",
        "#arr\n",
        "\n",
        "arr = np.insert(arr,0,10)\n",
        "arr"
      ],
      "metadata": {
        "colab": {
          "base_uri": "https://localhost:8080/"
        },
        "id": "_OyMAdnC3t_Q",
        "outputId": "aadc8348-75ff-4c6f-fa79-a076c7a0ba0c"
      },
      "execution_count": 45,
      "outputs": [
        {
          "output_type": "execute_result",
          "data": {
            "text/plain": [
              "array([10,  1,  2,  3,  4,  5,  6])"
            ]
          },
          "metadata": {},
          "execution_count": 45
        }
      ]
    },
    {
      "cell_type": "code",
      "source": [
        "#(c)\n",
        "\n",
        "#arr.insert(4,30)  #insert(index position, value)\n",
        "#arr\n",
        "\n",
        "arr = np.insert(arr,4,30)\n",
        "arr"
      ],
      "metadata": {
        "colab": {
          "base_uri": "https://localhost:8080/"
        },
        "id": "ILHy98E03ueq",
        "outputId": "fa8d4f1e-8212-472b-e8fb-3b9cfcb6f39e"
      },
      "execution_count": 47,
      "outputs": [
        {
          "output_type": "execute_result",
          "data": {
            "text/plain": [
              "array([10,  1,  2,  3, 30,  4,  5,  6])"
            ]
          },
          "metadata": {},
          "execution_count": 47
        }
      ]
    },
    {
      "cell_type": "code",
      "source": [
        "#(d)\n",
        "\n",
        "arr[-2] = 50\n",
        "arr\n",
        "\n"
      ],
      "metadata": {
        "colab": {
          "base_uri": "https://localhost:8080/"
        },
        "id": "Nm_7a5lEEfFi",
        "outputId": "a1bb62ee-ac24-4d6c-81c7-dc0cc6897558"
      },
      "execution_count": 48,
      "outputs": [
        {
          "output_type": "execute_result",
          "data": {
            "text/plain": [
              "array([10,  1,  2,  3, 30,  4, 50,  6])"
            ]
          },
          "metadata": {},
          "execution_count": 48
        }
      ]
    },
    {
      "cell_type": "code",
      "source": [
        "#(e)\n",
        "\n",
        "del arr[-2]\n",
        "arr\n",
        "\n",
        "#arr = np.delete(arr, index_position)\n",
        "#arr\n",
        "\n",
        "#2nd way\n",
        "# arr.remove(index position)\n",
        "\n",
        "#3rd way\n",
        "# arr.pop(index position)"
      ],
      "metadata": {
        "colab": {
          "base_uri": "https://localhost:8080/"
        },
        "id": "dC81vD2eE1DK",
        "outputId": "1aed712f-811d-4057-b66d-fb290acd3da4"
      },
      "execution_count": null,
      "outputs": [
        {
          "output_type": "execute_result",
          "data": {
            "text/plain": [
              "[10, 1, 2, 3, 30, 4, 6]"
            ]
          },
          "metadata": {},
          "execution_count": 39
        }
      ]
    },
    {
      "cell_type": "code",
      "source": [
        "#(f)..Create a function to search for the element 30.\n",
        "\n",
        "#membership operator\n",
        "\n",
        "i = 30\n",
        "i in arr\n",
        "\n",
        "#2nd way:\n",
        "\n",
        "def check(i):\n",
        "  return i in arr\n",
        "\n",
        "print(check(30))"
      ],
      "metadata": {
        "id": "XG-hZknhE6Gz",
        "colab": {
          "base_uri": "https://localhost:8080/"
        },
        "outputId": "e7eabc8b-5b68-45fc-aad6-c0bbfa3f9f7b"
      },
      "execution_count": 59,
      "outputs": [
        {
          "output_type": "stream",
          "name": "stdout",
          "text": [
            "True\n"
          ]
        }
      ]
    },
    {
      "cell_type": "code",
      "source": [
        "#(g)\n",
        "\n",
        "arr.sort()  #ascending order\n",
        "arr\n",
        "\n",
        "#arr = np.sort(arr)\n",
        "#print(arr)"
      ],
      "metadata": {
        "colab": {
          "base_uri": "https://localhost:8080/"
        },
        "id": "L3Km_B25E6LJ",
        "outputId": "f73b7fcc-4e71-40e0-ff74-70575eb6dadc"
      },
      "execution_count": 60,
      "outputs": [
        {
          "output_type": "execute_result",
          "data": {
            "text/plain": [
              "array([ 1,  2,  3,  4,  6, 10, 30, 50])"
            ]
          },
          "metadata": {},
          "execution_count": 60
        }
      ]
    },
    {
      "cell_type": "code",
      "source": [],
      "metadata": {
        "id": "tEe21DaSE6Pi"
      },
      "execution_count": null,
      "outputs": []
    },
    {
      "cell_type": "code",
      "source": [],
      "metadata": {
        "id": "HlJC4jBFE6sc"
      },
      "execution_count": null,
      "outputs": []
    }
  ]
}